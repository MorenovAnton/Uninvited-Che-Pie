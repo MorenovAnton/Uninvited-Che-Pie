{
 "cells": [
  {
   "cell_type": "code",
   "execution_count": 87,
   "metadata": {},
   "outputs": [],
   "source": [
    "import requests\n",
    "from lxml import html\n",
    "from lxml import etree as et\n",
    "import re\n",
    "\n",
    "from requests.exceptions import HTTPError"
   ]
  },
  {
   "cell_type": "code",
   "execution_count": 134,
   "metadata": {},
   "outputs": [],
   "source": [
    "url = 'https://ficbook.net/readfic/{}'\n",
    "fic_id = 8957213  # id автора по которому можно обратиться к его профилю  8957213\n",
    "referer = url.format(fic_id)"
   ]
  },
  {
   "cell_type": "code",
   "execution_count": 135,
   "metadata": {},
   "outputs": [
    {
     "name": "stdout",
     "output_type": "stream",
     "text": [
      "https://ficbook.net/readfic/8957213\n"
     ]
    }
   ],
   "source": [
    "print(url.format(fic_id))"
   ]
  },
  {
   "cell_type": "code",
   "execution_count": 136,
   "metadata": {},
   "outputs": [
    {
     "data": {
      "text/plain": [
       "<Response [200]>"
      ]
     },
     "execution_count": 136,
     "metadata": {},
     "output_type": "execute_result"
    }
   ],
   "source": [
    "requests.get(referer)"
   ]
  },
  {
   "cell_type": "code",
   "execution_count": 139,
   "metadata": {},
   "outputs": [],
   "source": [
    "# будет проверкой на ответ сервера\n",
    "# https://requests.readthedocs.io/en/master/_modules/requests/exceptions/\n",
    "def status(url):\n",
    "    try:\n",
    "        response = requests.get(url)\n",
    "        # если ответ успешен, исключения задействованы не будут\n",
    "        response.raise_for_status()\n",
    "        \n",
    "    except HTTPError as http_err:\n",
    "        print(f'HTTP error occurred: {http_err}') # 404\n",
    "        \n",
    "    except ConnectionError as сonn_err:\n",
    "        print(f'A Connection error occurred: {сonn_err}') \n",
    "        \n",
    "    except Exception as err:\n",
    "        print(f'Other error occurred: {err}')  # Python 3.6\n",
    "    else:\n",
    "        return 1"
   ]
  },
  {
   "cell_type": "code",
   "execution_count": 140,
   "metadata": {},
   "outputs": [
    {
     "data": {
      "text/plain": [
       "1"
      ]
     },
     "execution_count": 140,
     "metadata": {},
     "output_type": "execute_result"
    }
   ],
   "source": [
    "status(referer)"
   ]
  },
  {
   "cell_type": "code",
   "execution_count": 7,
   "metadata": {},
   "outputs": [],
   "source": [
    "# получить текстовый вывод \n",
    "#response = requests.get(url)\n",
    "#response.encoding = 'utf-8'\n",
    "#a = response.text\n",
    "#a = a.split('\\n')"
   ]
  },
  {
   "cell_type": "code",
   "execution_count": 141,
   "metadata": {},
   "outputs": [],
   "source": [
    "response = requests.get(referer)\n",
    "# Преобразование тела документа в дерево элементов (DOM)\n",
    "parsed_body = html.fromstring(response.text)"
   ]
  },
  {
   "cell_type": "markdown",
   "metadata": {},
   "source": [
    "##  получить title страницы"
   ]
  },
  {
   "cell_type": "code",
   "execution_count": 176,
   "metadata": {},
   "outputs": [
    {
     "data": {
      "text/plain": [
       "'Его искали, а он нашелся—ориджинал'"
      ]
     },
     "execution_count": 176,
     "metadata": {},
     "output_type": "execute_result"
    }
   ],
   "source": [
    "# Выполнение xpath в дереве элементов\n",
    "title_name = str(parsed_body.xpath('//title/text()')[0])  # Получить title страницы\n",
    "#print(parsed_body.xpath('//a/@href'))         # Получить аттрибут href для всех ссылок\n",
    "title_name = re.sub(\"\\s\\s+\", \"\", title_name) # https://www.rupython.com/1283-1283.html удаление нескольких пробелов\n",
    "title_name"
   ]
  },
  {
   "cell_type": "code",
   "execution_count": 177,
   "metadata": {},
   "outputs": [],
   "source": [
    "# таким образом можно вытащить размер"
   ]
  },
  {
   "cell_type": "code",
   "execution_count": 178,
   "metadata": {},
   "outputs": [
    {
     "data": {
      "text/plain": [
       "[<Element div at 0x7f705d0c1950>,\n",
       " <Element div at 0x7f705d0bfa10>,\n",
       " <Element div at 0x7f7056103d70>,\n",
       " <Element div at 0x7f7056103d10>,\n",
       " <Element div at 0x7f7056103dd0>]"
      ]
     },
     "execution_count": 178,
     "metadata": {},
     "output_type": "execute_result"
    }
   ],
   "source": [
    "class_name = 'mb-5'\n",
    "els = parsed_body.find_class(class_name)\n",
    "els"
   ]
  },
  {
   "cell_type": "code",
   "execution_count": 211,
   "metadata": {},
   "outputs": [
    {
     "name": "stdout",
     "output_type": "stream",
     "text": [
      " Размер: планируется Миди, написано 365 страниц, 16 частей \n",
      "страниц: 365\n",
      "частей: 16\n"
     ]
    }
   ],
   "source": [
    "size = str(els[0].text_content()) \n",
    "size = re.sub(\"\\s\\s+\", \" \", size)\n",
    "print(size)\n",
    "pages, parts = re.findall(\"\\d+\", size)\n",
    "print('страниц:', pages)\n",
    "print('частей:', parts)"
   ]
  },
  {
   "cell_type": "code",
   "execution_count": 209,
   "metadata": {},
   "outputs": [
    {
     "data": {
      "text/plain": [
       "' Метки: PWP Попаданчество Фэнтези Экшн Элементы гета Элементы фемслэша '"
      ]
     },
     "execution_count": 209,
     "metadata": {},
     "output_type": "execute_result"
    }
   ],
   "source": [
    "tags = str(els[1].text_content()) # Метки\n",
    "tags = re.sub(\"\\s\\s+\", \" \", tags)\n",
    "tags"
   ]
  },
  {
   "cell_type": "code",
   "execution_count": 210,
   "metadata": {},
   "outputs": [
    {
     "data": {
      "text/plain": [
       "' Описание: Одной из аксиом любой истории о Героях и Злодеях, будет тот факт, что Злодей всегда будет искать Героя, дабы злодейски того уничтожить. Закономерно, эти персонажи забывают о том, что согласно итогу этих историй, искать Героя не стоит, даже если Злодей искренне считает самого себя Героем. Ведь Герой может и найтись. '"
      ]
     },
     "execution_count": 210,
     "metadata": {},
     "output_type": "execute_result"
    }
   ],
   "source": [
    "description = str(els[2].text_content())  # Описание\n",
    "description = re.sub(\"\\s\\s+\", \" \", description)\n",
    "description"
   ]
  },
  {
   "cell_type": "code",
   "execution_count": 212,
   "metadata": {},
   "outputs": [
    {
     "data": {
      "text/plain": [
       "' Примечания автора: Часть третья. Правила и предупреждения аналогичны первой и второй частям. Для тех, кто не знает о тех опусах, но был бы не против их прочесть, вам в этом направлении: 1. https://ficbook.net/readfic/8205186 2. https://ficbook.net/readfic/8534650 Главы будут выходить реже, причем намного - работы завались, а времени в сутках столько же. Идеал - одна глава в неделю. Стандарт - глава в две недели. Понеслись. Добрый человек под ником ZoomGuy сделал документ с ЧаВО, за что ему огромное спасибо. Собственно, документ: https://drive.google.com/file/d/1It0OeEugeGuR8hKJ-y-PIlhlvhzMcMlK/view Р.С. Неожиданно. №1 в топе «Джен» №2 в топе «Все» '"
      ]
     },
     "execution_count": 212,
     "metadata": {},
     "output_type": "execute_result"
    }
   ],
   "source": [
    "notes = str(els[3].text_content()) #Примечания автора\n",
    "notes = re.sub(\"\\s\\s+\", \" \", notes)\n",
    "notes"
   ]
  },
  {
   "cell_type": "code",
   "execution_count": 213,
   "metadata": {},
   "outputs": [
    {
     "data": {
      "text/plain": [
       "' Публикация на других ресурсах: Уточнять у автора/переводчика '"
      ]
     },
     "execution_count": 213,
     "metadata": {},
     "output_type": "execute_result"
    }
   ],
   "source": [
    "publication = str(els[4].text_content()) # Публикация на других ресурсах\n",
    "publication = re.sub(\"\\s\\s+\", \" \", publication)\n",
    "publication"
   ]
  },
  {
   "cell_type": "markdown",
   "metadata": {},
   "source": [
    "## Проверка коментариев "
   ]
  },
  {
   "cell_type": "code",
   "execution_count": 215,
   "metadata": {},
   "outputs": [
    {
     "data": {
      "text/plain": [
       "'https://ficbook.net/readfic/8957213/comments#content'"
      ]
     },
     "execution_count": 215,
     "metadata": {},
     "output_type": "execute_result"
    }
   ],
   "source": [
    "last_comment = 'https://ficbook.net/readfic/{}/comments#content'\n",
    "referer_last_comment = last_comment.format(fic_id)\n",
    "referer_last_comment"
   ]
  },
  {
   "cell_type": "code",
   "execution_count": 216,
   "metadata": {},
   "outputs": [],
   "source": [
    "response_last_comment = requests.get(referer_last_comment)\n",
    "# Преобразование тела документа в дерево элементов (DOM)\n",
    "parsed_last_comment = html.fromstring(response_last_comment.text)"
   ]
  },
  {
   "cell_type": "code",
   "execution_count": 217,
   "metadata": {},
   "outputs": [
    {
     "data": {
      "text/plain": [
       "<Element html at 0x7f70560da7d0>"
      ]
     },
     "execution_count": 217,
     "metadata": {},
     "output_type": "execute_result"
    }
   ],
   "source": [
    "parsed_last_comment"
   ]
  },
  {
   "cell_type": "code",
   "execution_count": 222,
   "metadata": {},
   "outputs": [
    {
     "name": "stdout",
     "output_type": "stream",
     "text": [
      "     \n",
      "Здравствуйте, коллеги-читатели!\r\n",
      "Боюсь, за обсуждением эпичной битвы Лосия мы пропустили, стратегически, очень важную информацию. Тин принял принципиальное решение обзавестись бэнефикой. Думаю, все помнят, что случилось, когда Тин размышлял, что ему, вроде как полагается эльфийка. Сейчас же он твердо решил. Вам еще не страшно за империю Веков?\r\n",
      "Я вижу ситуацию так:\r\n",
      "- Тин подменяет «почтенного хозяина» его отражением. Уходя, герои решают обнести его сокровищницу (ну, чтобы не возвращаться), и находят там статую древней волшебницы/темной целительницы/еще какой стремный класс, аля Эленай Зиновия. Её либо расколдуют, либо её душа получит новое тело (а вот не надо было Призванного водить. Тина это не оскорбило. ВОТ СОВСЕМ!!!);\r\n",
      "- при разграблении Библиотеки Тин находит саркофаг (не разрушимую и вечную темницу) очень древней императрицы и верховной жрицы ныне мёртвого (а слуга живого бога ГГ не подходит), но даже по Алурейским меркам отбитого на все голову бога. Вполне возможно, что когда явится Хозяин, то именно этой темницей (как дубиной) Тин и забьёт это малоуязвимое к магии и стали чудовище, по путно темницу разрушив.\r\n",
      "Вот и надежное прибавление в команду, ибо местных жителей, потомков своих пленителен, она будет ненавидеть очень сильно.\r\n",
      "\n",
      "     \n",
      ">**Xsenon13**\r\n",
      ">Я тут вспомнил бывший уже вопрос(и ответ Автора на него) о том как бы выглядел миф класс Повелителя Пекла и у меня в голове возник абсолютно рандомный вопрос... а чем бы являлся класс у кого-то вроде Думгая ака Палача Рока? По сути мужик напрямую от тех самых демонов питается, это был бы какой другой класс вроде специфического Охотника на Монстров, что питается от убийства конкретных существ или просто Костик-стайл Повелитель Пекла, что чисто за счёт ярости на демонов остаётся, пусть и своеобразным, человеком?\r\n",
      "\r\n",
      "Слишком много очень разных вариантов. Один из них чуть выше описан, например.\n",
      "     \n",
      ">**Xsenon13**\r\n",
      ">Я тут вспомнил бывший уже вопрос(и ответ Автора на него) о том как бы выглядел миф класс Повелителя Пекла и у меня в голове возник абсолютно рандомный вопрос... а чем бы являлся класс у кого-то вроде Думгая ака Палача Рока? По сути мужик напрямую от тех самых демонов питается, это был бы какой другой класс вроде специфического Охотника на Монстров, что питается от убийства конкретных существ или просто Костик-стайл Повелитель Пекла, что чисто за счёт ярости на демонов остаётся, пусть и своеобразным, человеком?\r\n",
      "\r\n",
      "Крысо-бой бы был. Это когда крыс в одно помещение штук 10 закидывают. И одна из них сжирает всех. У неё коротит и она только своими сородичами может теперь питаться. Вот так-де бы вышел и дум гай по алурейски...\n",
      "     \n",
      "Я тут вспомнил бывший уже вопрос(и ответ Автора на него) о том как бы выглядел миф класс Повелителя Пекла и у меня в голове возник абсолютно рандомный вопрос... а чем бы являлся класс у кого-то вроде Думгая ака Палача Рока? По сути мужик напрямую от тех самых демонов питается, это был бы какой другой класс вроде специфического Охотника на Монстров, что питается от убийства конкретных существ или просто Костик-стайл Повелитель Пекла, что чисто за счёт ярости на демонов остаётся, пусть и своеобразным, человеком?\n",
      "     \n",
      "Когда статус будет? \n",
      "     \n",
      "Кстати Автор ведь говорил что есть ученики Короля Извращенцев которые до сих пор живы.Вроде трое наделенных и пять наделенность пролюбивших.И вот здесь появился ,ГОСПОДИН ДОВОЛЕН,из Пекла \n",
      "Порока и Разврата.Может это как раз один из учеников?\n",
      "     \n",
      ">**Macropod**\r\n",
      ">   Ещё одна причина есть. Заведение предназначено для того, чтоб делать клиентам за их деньги приятное, а изверги - наоборот, всех желают мучать. Изверги такой бизнес не потянули бы. Если бы изверги захватили заведение, то при всём их желании делать работу хорошо и не светиться всё равно начались бы срывы. Появились бы кнопки на стуле клиента, пурген со снотворным в компоте, нестираные простыни с клопами, шлюх бы нанимали в заведение только корявых и больных и т.д. По косвенным данным всем наблюдательным гражданам ясно стало, что что-то в этом циркобардаке сильно не так.\r\n",
      "\r\n",
      "Низкоуровневая шушера могла бы так спалиться. Но тут мразь пекла подобралась опытная, умная и сдержанная. Плюс их господин, поперёк которого они слова сказать не смеют. \n",
      "     \n",
      "Спасибо за шикарное продолжение! Видимо пирожки с вишней на этот раз заказывал Лосий)))\n",
      "     \n",
      ">**Macropod**\r\n",
      ">   Ещё одна причина есть. Заведение предназначено для того, чтоб делать клиентам за их деньги приятное, а изверги - наоборот, всех желают мучать. Изверги такой бизнес не потянули бы.\r\n",
      "\r\n",
      "Вы си-ильно ошибаетесь...\n",
      "     \n",
      ">**qwertyk06**\r\n",
      ">   Владелец независим и поныне, а что Изверги? Им конечно повезло в Очи инфильтроваться (чаще везёт тем кто ищет, точнее такие чаще могут реализовать результаты везения), но при инфильтрации в Заведении у Извергов те же АФИГЕННЫЕ проблемы, что и при инфильтрации в Очи, ЕЩЁ РАЗ, и тут уж может не повезти! Насколько я понял Изверги никуда не спешат, они лучше медленно, неспеша, ничем особо не рискуя, ибо овчинка выделки не стоит.\r\n",
      "\r\n",
      "Ещё одна причина есть. Заведение предназначено для того, чтоб делать клиентам за их деньги приятное, а изверги - наоборот, всех желают мучать. Изверги такой бизнес не потянули бы. Если бы изверги захватили заведение, то при всём их желании делать работу хорошо и не светиться всё равно начались бы срывы. Появились бы кнопки на стуле клиента, пурген со снотворным в компоте, нестираные простыни с клопами, шлюх бы нанимали в заведение только корявых и больных и т.д.\r\n",
      "По косвенным данным всем наблюдательным гражданам ясно стало, что что-то в этом циркобардаке сильно не так.\n",
      "     \n",
      "Кто то сказал что глава дома разврата может быть с извергами.И так то это действительно может быть.Они блять Главу Имперской разведки смогли даже не завалить,а заменить в самом защищенном сердце штаба очей.И это УРОВЕНЬ!!!Могли они сначала,за пару десятков лет до,заменить почтенного?Могли!Почему нет?И так заполучили себе нехилый плацдарм для сбора жертвоприношений и т.д.А может быть и еще круче.Тогда двести лет назад,ПОЧТЕННЫЙ ХЕР уже был культистом,а то и извергом под маскировкой.Ему и золота,и артефактов,и бойцов с убийцами в поддержку от босса из Пекла.А он потихоньку входил в силу,и со временем наоборот сам начал своих подтягивать в Вечный.И счас уже один из самых крутых бонз в Империи.Да даже его фишка с  домом,который ДОМЕН.Когда слышишь Домен,первое слово что приходит в голову это ДЕМОН.\n",
      "     \n",
      ">**qwertyk06**\r\n",
      ">Из вышеупомянутой главы видно, что владелец квартала на равных срался с Очами за персонал.\r\n",
      "\r\n",
      "И что, что срался? Один этот факт дает смысл в его захвате. \r\n",
      "\r\n",
      ">**qwertyk06**\r\n",
      ">То есть Очи его пробить не могли, использовав весь возобновляемый арсенал, и скорее всего почти весь трудновозобновляемый (из-за большого времени контакта).\r\n",
      "\r\n",
      "Могли вот только затраты несравнимы по итогу с выигрышем. \r\n",
      "\r\n",
      ">**qwertyk06**\r\n",
      ">Изверги насколько я понял никуда не спешат, они не будут менять афигенный риск проникновения в новую хорошо защищённую организацию, которая привычно на ножах с нынешнем ХОСТОМ (организацией носителем заражения), рискуя многими достигнутыми успехами только для того чтобы было легче захватывать новых носителей. Насколько я понял Изверги никуда не спешат, они лучше медленно, неспеша, ничем особо не рискуя, ибо овчинка выделки не стоит.\r\n",
      "\r\n",
      "Вот именно что не спешат и судя по возрасту Хоста, и тому сколько внедрялись, то, что-то мне подсказывает, что заккораптить его будучи 100-ей давности, гораздо проще чем сейчас. \r\n",
      "\n",
      "     \n",
      "Автор - гений, такой сюжет завертел, неужели я правильно думаю что \"почтенный владелец\"- изверг, это просто такой шикарный поворот, офигевший костик, офигевшая эльфа, офигевшие соратники, миларетцы, гости шпионы и другие случайные или нет \"пассажиры\", оплывшая маска владельца, .... и \"господин будет не только недоволен\", но он знатно пригорит, если это не главный изверг окажется, это такой поворот!!! Я прям трубу шатал, как жду продолжение...\n",
      "     \n",
      ">**qwertyk06**\n",
      ">   Такого быть не может. За мнимо-редким исключением, когда скованный сосредоточен на контроле скилами и желаниями, а контроллёр явно желает быть подчинённым душой и телом это невозможно. Отказ идёт на уровне железа, скованный слишком любит/уважает/боится/считает слишком проблемным/да что угодно саму мысль подчинить контроллёра. Ибо даже если скованный начинает задумываться о чём-то таком, то это уже процесс слёта скованности думаю минимум на 50-70%. Если скованный начал план по взятие контроллёра под контроль, то он уже не скованный... по факту.\n",
      "\n",
      "В общем реальней, если скованный берёт под контроль человека который себя мнит контролёром, а тот на самом деле подчиняется совсем другому человеку. \n",
      "\n",
      "Автор, такие махинации при ритуале возможны или проще \"внушить\" что оно так было?\n",
      "     \n",
      ">**Драконид**\r\n",
      ">   Что будет если скованный подчинит себе контролера?\r\n",
      "\r\n",
      "Такого быть не может. За мнимо-редким исключением, когда скованный сосредоточен на контроле скилами и желаниями, а контроллёр явно желает быть подчинённым душой и телом это невозможно.\r\n",
      "Отказ идёт на уровне железа, скованный слишком любит/уважает/боится/считает слишком проблемным/да что угодно саму мысль подчинить контроллёра.\r\n",
      "Ибо даже если скованный начинает задумываться о чём-то таком, то это уже процесс слёта скованности думаю минимум на 50-70%.\r\n",
      "Если скованный начал план по взятие контроллёра под контроль, то он уже не скованный... по факту.\n",
      "     \n",
      ">**Virmagnavi**\r\n",
      ">Кстати только я при чтении этой главы \"делегаты\" читал как \"дегенераты\"  ? вот прям магия какая-то \r\n",
      "\r\n",
      "\r\n",
      "\r\n",
      ">**Virmagnavi**\r\n",
      ">Кстати только я при чтении этой главы \"делегаты\" читал как \"дегенераты\"  ? вот прям магия какая-то \r\n",
      "\r\n",
      "Некомпетентность у ребят на уровне, тут не поспоришь. Нарвались на  ненужный им конфликт на чужой территории  вообще без предварительной разведки. И, главное, вместо того, чтобы выставить бретером Воителя или кого ещё из свитских, на публичную арену выпустили своего главного подопечного! Даже не подумав, что это подстава, пусть не с целью убить, но с целью узнать классы и умения.\n",
      "     \n",
      "Как залипательно. \n",
      "     \n",
      "Кстати только я при чтении этой главы \"делегаты\" читал как \"дегенераты\"  ? вот прям магия какая-то \n",
      "     \n",
      ">**Sergov41**\r\n",
      ">   А зачем она ему вообще нужна?\r\n",
      "\r\n",
      "Что будет если скованный подчинит себе контролера?\n",
      "     \n",
      " Больше всего может увидеть Хозяин Дома. Но меня это не беспокоит, ведь Костик \"никого из них не собирался оставлять в живых\". Вот тогда и увидим, израще.. изверг тот или нет.\r\n",
      "\r\n",
      " Меня финальная атака Лосия впечатлила, с небесными силуэтами фигуры на местах выхода из минипрыжка. Такую технику можно улучшать многократно Небесному Дуэлянту, а теперь с приставкой \"Великому\".\n"
     ]
    }
   ],
   "source": [
    "class_comment_message = 'comment_message urlize'\n",
    "els_message = parsed_last_comment.find_class(class_comment_message)\n",
    "for comment in els_message:\n",
    "    publication = str(comment.text_content()) \n",
    "    #publication = re.sub(\"\\s\\s+\", \" \", publication)\n",
    "    print('     ')\n",
    "    print(publication)"
   ]
  },
  {
   "cell_type": "code",
   "execution_count": null,
   "metadata": {},
   "outputs": [],
   "source": []
  },
  {
   "cell_type": "code",
   "execution_count": null,
   "metadata": {},
   "outputs": [],
   "source": []
  },
  {
   "cell_type": "code",
   "execution_count": null,
   "metadata": {},
   "outputs": [],
   "source": []
  },
  {
   "cell_type": "code",
   "execution_count": null,
   "metadata": {},
   "outputs": [],
   "source": []
  },
  {
   "cell_type": "code",
   "execution_count": null,
   "metadata": {},
   "outputs": [],
   "source": []
  },
  {
   "cell_type": "code",
   "execution_count": null,
   "metadata": {},
   "outputs": [],
   "source": []
  },
  {
   "cell_type": "markdown",
   "metadata": {},
   "source": [
    "## Проверка может ли ответить сервер JSON"
   ]
  },
  {
   "cell_type": "markdown",
   "metadata": {},
   "source": [
    "как заявил Мартийн Питерс в комментариях, серверы могут отвечать JSON в случае ошибок (это зависит от реализации), поэтому проверка заголовка Content-Type более надежна.\n",
    "https://coderoad.ru/16573332/JSONDecodeError-%D0%BE%D0%B6%D0%B8%D0%B4%D0%B0%D0%B5%D0%BC%D0%BE%D0%B5-%D0%B7%D0%BD%D0%B0%D1%87%D0%B5%D0%BD%D0%B8%D0%B5-%D1%81%D1%82%D1%80%D0%BE%D0%BA%D0%B0-1-%D1%81%D1%82%D0%BE%D0%BB%D0%B1%D0%B5%D1%86-1-%D1%81%D0%B8%D0%BC%D0%B2%D0%BE%D0%BB-0\n",
    "https://github.com/psf/requests/issues/4908"
   ]
  },
  {
   "cell_type": "code",
   "execution_count": 54,
   "metadata": {},
   "outputs": [
    {
     "name": "stdout",
     "output_type": "stream",
     "text": [
      "Response content is not in JSON format.\n"
     ]
    }
   ],
   "source": [
    "import requests\n",
    "\n",
    "\n",
    "url = 'https://ficbook.net/readfic/8957213'\n",
    "r = requests.get(url)\n",
    "\n",
    "if 'json' in r.headers.get('Content-Type'):\n",
    "    js = r.json()\n",
    "else:\n",
    "    print('Response content is not in JSON format.')\n",
    "    js = 'spam'\n"
   ]
  },
  {
   "cell_type": "code",
   "execution_count": 55,
   "metadata": {},
   "outputs": [
    {
     "data": {
      "text/plain": [
       "'text/html; charset=UTF-8'"
      ]
     },
     "execution_count": 55,
     "metadata": {},
     "output_type": "execute_result"
    }
   ],
   "source": [
    "r.headers.get('Content-Type')"
   ]
  },
  {
   "cell_type": "code",
   "execution_count": null,
   "metadata": {},
   "outputs": [],
   "source": [
    "# тест headers Content-Type, если есть в Content-Type json значит можно вывести в json"
   ]
  },
  {
   "cell_type": "code",
   "execution_count": null,
   "metadata": {},
   "outputs": [],
   "source": [
    "#https://developer.mozilla.org/ru/docs/Web/HTTP/%D0%97%D0%B0%D0%B3%D0%BE%D0%BB%D0%BE%D0%B2%D0%BA%D0%B8/Content-Type\n",
    "#https://developer.mozilla.org/ru/docs/%D0%A1%D0%BB%D0%BE%D0%B2%D0%B0%D1%80%D1%8C/MIME_type"
   ]
  },
  {
   "cell_type": "code",
   "execution_count": 63,
   "metadata": {},
   "outputs": [
    {
     "data": {
      "text/plain": [
       "{'current_user_url': 'https://api.github.com/user',\n",
       " 'current_user_authorizations_html_url': 'https://github.com/settings/connections/applications{/client_id}',\n",
       " 'authorizations_url': 'https://api.github.com/authorizations',\n",
       " 'code_search_url': 'https://api.github.com/search/code?q={query}{&page,per_page,sort,order}',\n",
       " 'commit_search_url': 'https://api.github.com/search/commits?q={query}{&page,per_page,sort,order}',\n",
       " 'emails_url': 'https://api.github.com/user/emails',\n",
       " 'emojis_url': 'https://api.github.com/emojis',\n",
       " 'events_url': 'https://api.github.com/events',\n",
       " 'feeds_url': 'https://api.github.com/feeds',\n",
       " 'followers_url': 'https://api.github.com/user/followers',\n",
       " 'following_url': 'https://api.github.com/user/following{/target}',\n",
       " 'gists_url': 'https://api.github.com/gists{/gist_id}',\n",
       " 'hub_url': 'https://api.github.com/hub',\n",
       " 'issue_search_url': 'https://api.github.com/search/issues?q={query}{&page,per_page,sort,order}',\n",
       " 'issues_url': 'https://api.github.com/issues',\n",
       " 'keys_url': 'https://api.github.com/user/keys',\n",
       " 'label_search_url': 'https://api.github.com/search/labels?q={query}&repository_id={repository_id}{&page,per_page}',\n",
       " 'notifications_url': 'https://api.github.com/notifications',\n",
       " 'organization_url': 'https://api.github.com/orgs/{org}',\n",
       " 'organization_repositories_url': 'https://api.github.com/orgs/{org}/repos{?type,page,per_page,sort}',\n",
       " 'organization_teams_url': 'https://api.github.com/orgs/{org}/teams',\n",
       " 'public_gists_url': 'https://api.github.com/gists/public',\n",
       " 'rate_limit_url': 'https://api.github.com/rate_limit',\n",
       " 'repository_url': 'https://api.github.com/repos/{owner}/{repo}',\n",
       " 'repository_search_url': 'https://api.github.com/search/repositories?q={query}{&page,per_page,sort,order}',\n",
       " 'current_user_repositories_url': 'https://api.github.com/user/repos{?type,page,per_page,sort}',\n",
       " 'starred_url': 'https://api.github.com/user/starred{/owner}{/repo}',\n",
       " 'starred_gists_url': 'https://api.github.com/gists/starred',\n",
       " 'user_url': 'https://api.github.com/users/{user}',\n",
       " 'user_organizations_url': 'https://api.github.com/user/orgs',\n",
       " 'user_repositories_url': 'https://api.github.com/users/{user}/repos{?type,page,per_page,sort}',\n",
       " 'user_search_url': 'https://api.github.com/search/users?q={query}{&page,per_page,sort,order}'}"
      ]
     },
     "execution_count": 63,
     "metadata": {},
     "output_type": "execute_result"
    }
   ],
   "source": [
    "test_url = 'https://api.github.com'\n",
    "test = requests.get(test_url)\n",
    "test.headers.get('Content-Type')\n",
    "test.json()"
   ]
  }
 ],
 "metadata": {
  "kernelspec": {
   "display_name": "Python 3",
   "language": "python",
   "name": "python3"
  },
  "language_info": {
   "codemirror_mode": {
    "name": "ipython",
    "version": 3
   },
   "file_extension": ".py",
   "mimetype": "text/x-python",
   "name": "python",
   "nbconvert_exporter": "python",
   "pygments_lexer": "ipython3",
   "version": "3.7.6"
  }
 },
 "nbformat": 4,
 "nbformat_minor": 4
}
